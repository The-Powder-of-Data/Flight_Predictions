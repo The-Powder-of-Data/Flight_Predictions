{
 "cells": [
  {
   "cell_type": "code",
   "execution_count": 3,
   "metadata": {},
   "outputs": [],
   "source": [
    "def process_hourly(df):\n",
    "    df['taxi_total'] = df['taxi_in'] + df['taxi_out']\n",
    "    arr_hourly = df.groupby('arr_hour', as_index=False).agg(arr_hourly_arr=('arr_delay', 'mean'), arr_hourly_dep=('dep_delay', 'mean'), arr_hour_taxi=('taxi_total', 'mean'), late=('late_binary', 'sum'), ltot=('late_binary', 'size'), reduce=('reduced_delay_flight', 'sum'), rtot=('reduced_delay_flight', 'size'))\n",
    "    arr_hourly['arr_hourly_percent_late'] = arr_hourly['late'] / arr_hourly['ltot'] * 100\n",
    "    arr_hourly['arr_hourly_percent_reduced_delay'] = arr_hourly['reduce'] / arr_hourly['rtot'] * 100\n",
    "    arr_hourly = arr_hourly.drop(columns=['late', 'ltot', 'reduce', 'rtot'])\n",
    "    \n",
    "    dep_hourly = df.groupby('dep_hour', as_index=False).agg(dep_hourly_arr=('arr_delay', 'mean'), dep_hourly_dep=('dep_delay', 'mean'), dep_hourly_taxi=('taxi_total', 'mean'), late=('late_binary', 'sum'), tot=('late_binary', 'size'), red=('reduced_delay_flight', 'sum'), rtot=('reduced_delay_flight', 'size'))\n",
    "    dep_hourly['dep_hourly_percent_late'] = dep_hourly['late'] / dep_hourly['tot'] * 100\n",
    "    dep_hourly['dep_hourly_percent_reduced'] = dep_hourly['red'] / dep_hourly['rtot'] * 100\n",
    "    dep_hourly = dep_hourly.drop(columns=['late', 'red', 'tot', 'rtot'])\n",
    "    \n",
    "    df.merge(arr_hourly, on='arr_hour')\n",
    "    df.merge(dep_hourly, on='dep_hour')\n",
    "    return df"
   ]
  },
  {
   "cell_type": "code",
   "execution_count": 4,
   "metadata": {},
   "outputs": [],
   "source": [
    "def process_weekly(df):\n",
    "    df['taxi_total'] = df['taxi_in'] + df['taxi_out']\n",
    "    weekday = df.groupby('weekday', as_index=False).agg(weekday_arr=('arr_delay', 'mean'), weekday_dep=('dep_delay', 'mean'), weekday_taxi=('taxi_total', 'mean'), late=('late_binary', 'sum'), tot=('late_binary', 'size'), red=('reduced_delay_flight', 'sum'), rtot=('reduced_delay_flight', 'size'))\n",
    "    weekday['weekly_percent_late'] = weekday['late'] / weekday['tot'] * 100\n",
    "    weekday['weekly_reduced_delay'] = weekday['red'] / weekday['rtot'] * 100\n",
    "    weekday = weekday.drop(columns=['red', 'late', 'rtot', 'tot'])\n",
    "\n",
    "    df = df.merge(weekday, on='weekday')\n",
    "    return df"
   ]
  },
  {
   "cell_type": "code",
   "execution_count": 5,
   "metadata": {},
   "outputs": [],
   "source": [
    "def process_carriers(df):\n",
    "    \"\"\"\n",
    "    returns new columns for avg taxi in and out based on airports, and total taxi on tail num\n",
    "    \"\"\"\n",
    "    carriers = df.groupby('op_unique_carrier', as_index=False).agg(carrier_arr=('arr_delay', 'mean'), carrier_dep=('dep_delay', 'mean'), carrier_taxiin=('taxi_in', 'mean'), carrier_taxiout=('taxi_out', 'mean'), carrier_late=('late_binary', 'sum'), carrier_total=('late_binary', 'size'), carrier_reduce_delay=('reduced_delay_flight', 'sum'), reduced_total=('reduced_delay_flight', 'size'))\n",
    "    carriers['carrier_percent_late'] = carriers['carrier_late'] / carriers['carrier_total'] * 100\n",
    "    carriers['carrier_taxi_total'] = carriers['carrier_taxiin'] + carriers['carrier_taxiout']\n",
    "    carriers['percent_carrier_delay_reduced'] = carriers['carrier_reduce_delay'] / carriers['reduced_total'] * 100\n",
    "    carriers = carriers.drop(columns=['carrier_reduce_delay', 'reduced_total', 'carrier_taxiout', 'carrier_taxiin', 'carrier_total', 'carrier_late'])\n",
    "    df = df.merge(carriers, on='op_unique_carrier')\n",
    "    return df"
   ]
  },
  {
   "cell_type": "code",
   "execution_count": null,
   "metadata": {},
   "outputs": [],
   "source": []
  }
 ],
 "metadata": {
  "interpreter": {
   "hash": "20f4d640321c64eebda1b336220043a55d007188cbae01fe5d177012ab1e8e44"
  },
  "kernelspec": {
   "display_name": "Python 3.7.12 ('THIRD_LOVE')",
   "language": "python",
   "name": "python3"
  },
  "language_info": {
   "codemirror_mode": {
    "name": "ipython",
    "version": 3
   },
   "file_extension": ".py",
   "mimetype": "text/x-python",
   "name": "python",
   "nbconvert_exporter": "python",
   "pygments_lexer": "ipython3",
   "version": "3.7.12"
  },
  "orig_nbformat": 4
 },
 "nbformat": 4,
 "nbformat_minor": 2
}
